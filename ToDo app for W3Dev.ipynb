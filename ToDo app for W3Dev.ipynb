{
 "cells": [
  {
   "cell_type": "markdown",
   "id": "c7fd8ff7",
   "metadata": {},
   "source": [
    "Importing the Libraries."
   ]
  },
  {
   "cell_type": "code",
   "execution_count": 315,
   "id": "9cd4ce7d",
   "metadata": {},
   "outputs": [],
   "source": [
    "from tkinter import *\n",
    "from tkinter import messagebox\n",
    "import pickle"
   ]
  },
  {
   "cell_type": "markdown",
   "id": "fb8a0fca",
   "metadata": {},
   "source": [
    "Make the title and geometry "
   ]
  },
  {
   "cell_type": "code",
   "execution_count": 316,
   "id": "0bad4d2a",
   "metadata": {},
   "outputs": [],
   "source": [
    "root = Tk()\n",
    "root.title(\" ToDo App for W3Dev\")\n",
    "root.geometry('500x400')\n",
    "root.maxsize(500, 400)"
   ]
  },
  {
   "cell_type": "markdown",
   "id": "af157e0a",
   "metadata": {},
   "source": [
    "Make a listbox and entrybox to insert the text."
   ]
  },
  {
   "cell_type": "code",
   "execution_count": 317,
   "id": "12eb3afe",
   "metadata": {},
   "outputs": [],
   "source": [
    "# Frame\n",
    "frame = Frame(root)\n",
    "frame.pack()\n",
    "\n",
    "\n",
    "listbox = Listbox(frame, width=47,height = 5,  yscrollcommand=scroll.set)\n",
    "listbox.pack(side = LEFT)\n",
    "scroll = Scrollbar(frame)\n",
    "scroll.pack(side=RIGHT, fill=Y)\n",
    "scroll.config(command=listbox.yview)\n",
    "\n",
    "#entry box\n",
    "entry_box = Entry(root, bd =3, width=49)\n",
    "entry_box.pack()"
   ]
  },
  {
   "cell_type": "markdown",
   "id": "ee89445d",
   "metadata": {},
   "source": [
    "Making a create button and its functions."
   ]
  },
  {
   "cell_type": "code",
   "execution_count": 318,
   "id": "a29ec22b",
   "metadata": {},
   "outputs": [],
   "source": [
    "def create_task():\n",
    "    get_text = entry_box.get()              # get the text from the entrybox.\n",
    "    if get_text != \"\":\n",
    "        listbox.insert(END, get_text)       # insert the text into the listbox.\n",
    "        entry_box.delete(0, END)            # delete the entry box text after intering into list.\n",
    "    else:\n",
    "        messagebox.showwarning(title = \"warning !\", message = \"Plz enter something\")\n",
    "        \n",
    "add_button = Button(root, text = 'Insert Task', height=1, width=15, command = create_task)\n",
    "add_button.pack()"
   ]
  },
  {
   "cell_type": "markdown",
   "id": "c8990cbf",
   "metadata": {},
   "source": [
    "Making Delete Button and its functions."
   ]
  },
  {
   "cell_type": "code",
   "execution_count": 319,
   "id": "2376c1d0",
   "metadata": {},
   "outputs": [],
   "source": [
    "def delete_task():\n",
    "    try:\n",
    "        task_index = listbox.curselection()[0]\n",
    "        listbox.delete(task_index)\n",
    "    except:\n",
    "        messagebox.showwarning(title = \"warning !\", message = \"Plz select the task\")\n",
    "\n",
    "\n",
    "\n",
    "delete_button = Button(root, text = 'Delete Task', height=1, width=15, command = delete_task)\n",
    "delete_button.pack()"
   ]
  },
  {
   "cell_type": "markdown",
   "id": "c5950249",
   "metadata": {},
   "source": [
    "Making save Button and its functions."
   ]
  },
  {
   "cell_type": "code",
   "execution_count": 320,
   "id": "c1318cda",
   "metadata": {},
   "outputs": [],
   "source": [
    "def save_task():\n",
    "    tasks = listbox.get(0, listbox.size())\n",
    "    pickle.dump(tasks, open('data.dat', 'wb')) # data is a file and wb means write binary.\n",
    "\n",
    "\n",
    "save_button = Button(root, text = 'Save Task', height=1, width=15, command = save_task)\n",
    "save_button.pack()"
   ]
  },
  {
   "cell_type": "markdown",
   "id": "26e7e034",
   "metadata": {},
   "source": [
    "Making load Button and its functions."
   ]
  },
  {
   "cell_type": "code",
   "execution_count": 321,
   "id": "dc2a9cc8",
   "metadata": {},
   "outputs": [],
   "source": [
    "def load_task():\n",
    "    try:\n",
    "        tasks = pickle.load( open('data.dat', 'rb')) # data is a file and wb means write binary.\n",
    "        listbox.delete(0 ,END)\n",
    "        for task in tasks:\n",
    "            listbox.insert(END, task)\n",
    "    except:\n",
    "        messagebox.showwarning(title = \"warning !\", message = \"there is no data file present, plz save some data first.\")\n",
    "\n",
    "load_button = Button(root, text = 'Load Task', height=1, width=15, command = load_task)\n",
    "load_button.pack()"
   ]
  },
  {
   "cell_type": "code",
   "execution_count": 322,
   "id": "743bf16a",
   "metadata": {},
   "outputs": [
    {
     "name": "stderr",
     "output_type": "stream",
     "text": [
      "Exception in Tkinter callback\n",
      "Traceback (most recent call last):\n",
      "  File \"C:\\Users\\ABC\\anaconda3\\lib\\tkinter\\__init__.py\", line 1921, in __call__\n",
      "    return self.func(*args)\n",
      "  File \"C:\\Users\\ABC\\anaconda3\\lib\\tkinter\\__init__.py\", line 3569, in set\n",
      "    self.tk.call(self._w, 'set', first, last)\n",
      "_tkinter.TclError: invalid command name \".!frame.!scrollbar\"\n",
      "Exception in Tkinter callback\n",
      "Traceback (most recent call last):\n",
      "  File \"C:\\Users\\ABC\\anaconda3\\lib\\tkinter\\__init__.py\", line 1921, in __call__\n",
      "    return self.func(*args)\n",
      "  File \"C:\\Users\\ABC\\anaconda3\\lib\\tkinter\\__init__.py\", line 3569, in set\n",
      "    self.tk.call(self._w, 'set', first, last)\n",
      "_tkinter.TclError: invalid command name \".!frame.!scrollbar\"\n",
      "Exception in Tkinter callback\n",
      "Traceback (most recent call last):\n",
      "  File \"C:\\Users\\ABC\\anaconda3\\lib\\tkinter\\__init__.py\", line 1921, in __call__\n",
      "    return self.func(*args)\n",
      "  File \"C:\\Users\\ABC\\anaconda3\\lib\\tkinter\\__init__.py\", line 3569, in set\n",
      "    self.tk.call(self._w, 'set', first, last)\n",
      "_tkinter.TclError: invalid command name \".!frame.!scrollbar\"\n",
      "Exception in Tkinter callback\n",
      "Traceback (most recent call last):\n",
      "  File \"C:\\Users\\ABC\\anaconda3\\lib\\tkinter\\__init__.py\", line 1921, in __call__\n",
      "    return self.func(*args)\n",
      "  File \"C:\\Users\\ABC\\anaconda3\\lib\\tkinter\\__init__.py\", line 3569, in set\n",
      "    self.tk.call(self._w, 'set', first, last)\n",
      "_tkinter.TclError: invalid command name \".!frame.!scrollbar\"\n",
      "Exception in Tkinter callback\n",
      "Traceback (most recent call last):\n",
      "  File \"C:\\Users\\ABC\\anaconda3\\lib\\tkinter\\__init__.py\", line 1921, in __call__\n",
      "    return self.func(*args)\n",
      "  File \"C:\\Users\\ABC\\anaconda3\\lib\\tkinter\\__init__.py\", line 3569, in set\n",
      "    self.tk.call(self._w, 'set', first, last)\n",
      "_tkinter.TclError: invalid command name \".!frame.!scrollbar\"\n",
      "Exception in Tkinter callback\n",
      "Traceback (most recent call last):\n",
      "  File \"C:\\Users\\ABC\\anaconda3\\lib\\tkinter\\__init__.py\", line 1921, in __call__\n",
      "    return self.func(*args)\n",
      "  File \"C:\\Users\\ABC\\anaconda3\\lib\\tkinter\\__init__.py\", line 3569, in set\n",
      "    self.tk.call(self._w, 'set', first, last)\n",
      "_tkinter.TclError: invalid command name \".!frame.!scrollbar\"\n",
      "Exception in Tkinter callback\n",
      "Traceback (most recent call last):\n",
      "  File \"C:\\Users\\ABC\\anaconda3\\lib\\tkinter\\__init__.py\", line 1921, in __call__\n",
      "    return self.func(*args)\n",
      "  File \"C:\\Users\\ABC\\anaconda3\\lib\\tkinter\\__init__.py\", line 3569, in set\n",
      "    self.tk.call(self._w, 'set', first, last)\n",
      "_tkinter.TclError: invalid command name \".!frame.!scrollbar\"\n",
      "Exception in Tkinter callback\n",
      "Traceback (most recent call last):\n",
      "  File \"C:\\Users\\ABC\\anaconda3\\lib\\tkinter\\__init__.py\", line 1921, in __call__\n",
      "    return self.func(*args)\n",
      "  File \"C:\\Users\\ABC\\anaconda3\\lib\\tkinter\\__init__.py\", line 3569, in set\n",
      "    self.tk.call(self._w, 'set', first, last)\n",
      "_tkinter.TclError: invalid command name \".!frame.!scrollbar\"\n",
      "Exception in Tkinter callback\n",
      "Traceback (most recent call last):\n",
      "  File \"C:\\Users\\ABC\\anaconda3\\lib\\tkinter\\__init__.py\", line 1921, in __call__\n",
      "    return self.func(*args)\n",
      "  File \"C:\\Users\\ABC\\anaconda3\\lib\\tkinter\\__init__.py\", line 3569, in set\n",
      "    self.tk.call(self._w, 'set', first, last)\n",
      "_tkinter.TclError: invalid command name \".!frame.!scrollbar\"\n",
      "Exception in Tkinter callback\n",
      "Traceback (most recent call last):\n",
      "  File \"C:\\Users\\ABC\\anaconda3\\lib\\tkinter\\__init__.py\", line 1921, in __call__\n",
      "    return self.func(*args)\n",
      "  File \"C:\\Users\\ABC\\anaconda3\\lib\\tkinter\\__init__.py\", line 3569, in set\n",
      "    self.tk.call(self._w, 'set', first, last)\n",
      "_tkinter.TclError: invalid command name \".!frame.!scrollbar\"\n",
      "Exception in Tkinter callback\n",
      "Traceback (most recent call last):\n",
      "  File \"C:\\Users\\ABC\\anaconda3\\lib\\tkinter\\__init__.py\", line 1921, in __call__\n",
      "    return self.func(*args)\n",
      "  File \"C:\\Users\\ABC\\anaconda3\\lib\\tkinter\\__init__.py\", line 3569, in set\n",
      "    self.tk.call(self._w, 'set', first, last)\n",
      "_tkinter.TclError: invalid command name \".!frame.!scrollbar\"\n"
     ]
    }
   ],
   "source": [
    "root.mainloop()"
   ]
  },
  {
   "cell_type": "code",
   "execution_count": null,
   "id": "7503fc0d",
   "metadata": {},
   "outputs": [],
   "source": []
  }
 ],
 "metadata": {
  "kernelspec": {
   "display_name": "Python 3 (ipykernel)",
   "language": "python",
   "name": "python3"
  },
  "language_info": {
   "codemirror_mode": {
    "name": "ipython",
    "version": 3
   },
   "file_extension": ".py",
   "mimetype": "text/x-python",
   "name": "python",
   "nbconvert_exporter": "python",
   "pygments_lexer": "ipython3",
   "version": "3.10.9"
  }
 },
 "nbformat": 4,
 "nbformat_minor": 5
}
